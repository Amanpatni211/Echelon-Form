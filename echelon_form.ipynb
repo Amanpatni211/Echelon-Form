{
  "nbformat": 4,
  "nbformat_minor": 0,
  "metadata": {
    "colab": {
      "name": "echelon_form.ipynb",
      "provenance": [],
      "collapsed_sections": [],
      "authorship_tag": "ABX9TyP+ShS4GOYHsFIFM5E6PMEn",
      "include_colab_link": true
    },
    "kernelspec": {
      "name": "python3",
      "display_name": "Python 3"
    },
    "language_info": {
      "name": "python"
    }
  },
  "cells": [
    {
      "cell_type": "markdown",
      "metadata": {
        "id": "view-in-github",
        "colab_type": "text"
      },
      "source": [
        "<a href=\"https://colab.research.google.com/github/Amanpatni211/Echelon-Form/blob/main/echelon_form.ipynb\" target=\"_parent\"><img src=\"https://colab.research.google.com/assets/colab-badge.svg\" alt=\"Open In Colab\"/></a>"
      ]
    },
    {
      "cell_type": "code",
      "source": [
        "import numpy as np"
      ],
      "metadata": {
        "id": "9QnwxOlUVYv1"
      },
      "execution_count": null,
      "outputs": []
    },
    {
      "cell_type": "code",
      "execution_count": null,
      "metadata": {
        "id": "Ci034-AlM3Tu"
      },
      "outputs": [],
      "source": [
        "'''\n",
        " This notebook is playground for making some matrix concepts of solving system of linear equations.\n",
        "I want to work on this till my test and even later if I wish\n",
        "so theoritically I know what should be done to do any method, the crux is to first write a algorithm and then is to code it in python\n",
        "I will start with echelon form then proceed further in coordial manner.\n",
        "So what is Echelon form ; lets look into notes for that.\n",
        "so it is a generalization of upper triangular matrix ; it is not unique \n",
        "'''\n",
        "#problem statement : Convert any given matrix into one of its echelon form.\n",
        "#now we will ask for a input for any mxn matrix\n",
        "#so I will take the input row wise\n",
        "m =  int(input(\"Enter the number of rows\"))\n",
        "n = int(input(\"Enter the numberof columns\"))\n",
        "imx= np.zeros((m,n))\n",
        "for i in range(1,m+1):\n",
        "  for j in range(1,n+1):\n",
        "    a = float(input(\"Enter the\" + str(i)+\",\"+str(j)+\"term\"))\n",
        "    imx[i-1][j-1] = a\n",
        "print(imx)\n"
      ]
    },
    {
      "cell_type": "code",
      "source": [
        "imx =[[32,322,33],[0,65,77],[5,6,7]]\n",
        "m=3\n",
        "n=3"
      ],
      "metadata": {
        "id": "PHE7rroQBxoE"
      },
      "execution_count": null,
      "outputs": []
    },
    {
      "cell_type": "code",
      "source": [
        "imx[2][2]"
      ],
      "metadata": {
        "colab": {
          "base_uri": "https://localhost:8080/"
        },
        "id": "_vVZK4019yBY",
        "outputId": "59d6e4c3-79b1-47e1-a9bc-91bf2764fb3e"
      },
      "execution_count": null,
      "outputs": [
        {
          "output_type": "execute_result",
          "data": {
            "text/plain": [
              "7"
            ]
          },
          "metadata": {},
          "execution_count": 72
        }
      ]
    },
    {
      "cell_type": "code",
      "source": [
        "#now I have the matrix with me, next I am going to write the algorithm\n",
        "#step 1 is if there is any 0 row matrix then swap it in the bottom\n",
        "#lets execute that.\n",
        "#logic to do this is\n",
        "'''\n",
        "step 1: identify the zero rows\n",
        "step 2 : make two matrices; one with zero rows and the other with non zero rows\n",
        "step 3 : concat them , such that the zero row matrix will get the last terms\n",
        "'''\n",
        "nm_non_zero =[]\n",
        "nm_zero =[]\n",
        "for i in range(1,m+1):\n",
        "  test_m = []\n",
        "  for j in range(1,n+1):\n",
        "    if imx[i-1][j-1] ==0 :\n",
        "      test_m.append(0)\n",
        "    else:\n",
        "      test_m.append(1)\n",
        "  print(test_m)\n",
        "  if test_m == list(np.zeros(n)):\n",
        "    nm_zero.append(imx[i-1])\n",
        "  else:\n",
        "    nm_non_zero.append(imx[i-1])\n",
        "#now we will concatenate the two matrices\n",
        "print(nm_non_zero)\n",
        "print(nm_zero)\n",
        "nm_non_zero = np.array(nm_non_zero)\n",
        "nm_zero = np.array(nm_zero)\n",
        "if len(nm_zero)!=0 :\n",
        "\n",
        "  nm = np.concatenate((nm_non_zero,nm_zero),axis = 0)\n",
        "else:\n",
        "  nm = nm_non_zero\n",
        "\n",
        "print(nm)\n",
        "      \n",
        "\n"
      ],
      "metadata": {
        "colab": {
          "base_uri": "https://localhost:8080/"
        },
        "id": "bJced_HDWTJM",
        "outputId": "3fb5e4d5-7017-4439-caf0-6b614ddd7319"
      },
      "execution_count": null,
      "outputs": [
        {
          "output_type": "stream",
          "name": "stdout",
          "text": [
            "[1, 1, 1]\n",
            "[0, 1, 1]\n",
            "[1, 1, 1]\n",
            "[[32, 322, 33], [0, 65, 77], [5, 6, 7]]\n",
            "[]\n",
            "[[ 32 322  33]\n",
            " [  0  65  77]\n",
            " [  5   6   7]]\n"
          ]
        }
      ]
    },
    {
      "cell_type": "code",
      "source": [
        "print(nm)"
      ],
      "metadata": {
        "colab": {
          "base_uri": "https://localhost:8080/"
        },
        "id": "N1XQs3SGS5QN",
        "outputId": "9b7398e8-54f9-4bc9-a80a-407dc8f44cfe"
      },
      "execution_count": null,
      "outputs": [
        {
          "output_type": "stream",
          "name": "stdout",
          "text": [
            "[[ 32 322  33]\n",
            " [  0  65  77]\n",
            " [  5   6   7]]\n"
          ]
        }
      ]
    },
    {
      "cell_type": "code",
      "source": [
        "#now lets get into step 2 which is converting it in upper triangle system\n",
        "#so I have to make sure that leading term of any row is on the right side of leading term of the preceeding row\n",
        "#this seems to be hard for me..anyway first I will make my column 1 with only the top entry being non-zero;then\n",
        "#i will make the same in other rows too..so let us find the steps to do the same..\n",
        "#firstly I will code down all the row operations for any matrix\n",
        "\n",
        "#so basically I have to make 3 functions; ROW_OPERATION = ro\n",
        "#ro1 is for swapping two rows\n",
        "\n",
        "def ro1(m, i,j):\n",
        "  m[[i,j]] = m[[j,i]]\n",
        "  return m\n",
        "\n",
        "#row operation 2 is ro2 is to multiply any given row with a scalar\n",
        "def ro2(m,j,alpha):\n",
        "  m[j] = list(alpha*np.array(m[j]))\n",
        "  return m\n",
        "\n",
        "#row operation 3 is ro3 is to replace a row with row := row + alpha*any_other_row\n",
        "def ro3(m,i,j,alpha):\n",
        "  m[i]=list( np.array(m[i]) + alpha*np.array(m[j]))\n",
        "  return m\n",
        "\n",
        "\n",
        "\n",
        "\n",
        "\n"
      ],
      "metadata": {
        "id": "l08gFRrSellC"
      },
      "execution_count": null,
      "outputs": []
    },
    {
      "cell_type": "code",
      "source": [
        "#@title Default title text\n",
        "#before taking the final step, i will have to first make sure that all leading terms are arranged according to the hierarchy of leading term precedence\n",
        "#steps are check  lets think so i can make identify the first non-zero term in every row and then sort their index and then make the new matrix with that order\n",
        "#in place...lets think little further after i make this new matrix and then I will make a for loop in ehich i will see yeah so it may be possible to do further\n",
        "\n",
        "# here i will be finding the leading terms of all matrix\n",
        "'''\n",
        "def leading_term_index(my ,i ):\n",
        "  m = my.shape[1]\n",
        "  p=0\n",
        "  v=2\n",
        "  while p in range(0,m) or v ==1 :\n",
        "    \n",
        "    if my[i][p] != 0 :\n",
        "      index = p\n",
        "      v=v-1\n",
        "    else:\n",
        "      p= p+1\n",
        "  return index\n",
        "'''\n",
        "    "
      ],
      "metadata": {
        "id": "BmyoDv1qL4fY",
        "cellView": "form"
      },
      "execution_count": null,
      "outputs": []
    },
    {
      "cell_type": "code",
      "source": [
        "#@title Default title text\n",
        "m =  int(input(\"Enter the number of rows\"))\n",
        "n = int(input(\"Enter the numberof columns\"))\n",
        "im1= np.zeros((m,n))\n",
        "for i in range(1,m+1):\n",
        "  for j in range(1,n+1):\n",
        "    a = float(input(\"Enter the\" + str(i)+\",\"+str(j)+\"term\"))\n",
        "    im1[i-1][j-1] = a\n",
        "print(im1)"
      ],
      "metadata": {
        "id": "D3n9U0nag3oO",
        "cellView": "form"
      },
      "execution_count": null,
      "outputs": []
    },
    {
      "cell_type": "code",
      "source": [
        "def leading_term_index_list(my):\n",
        "  m = my.shape[1]\n",
        "  t = my.shape[0]\n",
        "  \n",
        "  i=0\n",
        "  leading_list = {}\n",
        "  for i in range(0,t):\n",
        "    p=0\n",
        "    v=2\n",
        "    index = -1\n",
        "    for p in range(0,m):\n",
        "      if v!= 1: \n",
        "        if my[i][p] != 0 :\n",
        "          index = p\n",
        "          v=v-1    \n",
        "      p= p+1\n",
        "      if index!=-1:\n",
        "        leading_list[i]= p\n",
        "        break \n",
        "      if p==m-1 and index==-1 :\n",
        "        leading_list[i]=m+1\n",
        "    aman=leading_list\n",
        "    aman=sorted(aman.items(), key=lambda x: x[1], reverse=False)\n",
        "  return aman"
      ],
      "metadata": {
        "id": "TKeCzh40fDI4"
      },
      "execution_count": null,
      "outputs": []
    },
    {
      "cell_type": "code",
      "source": [
        "type(nm_non_zero)"
      ],
      "metadata": {
        "colab": {
          "base_uri": "https://localhost:8080/"
        },
        "id": "VmqKfjsVIRuL",
        "outputId": "72ba2f5a-91f3-4b18-96e0-32fa6dc52509"
      },
      "execution_count": null,
      "outputs": [
        {
          "output_type": "execute_result",
          "data": {
            "text/plain": [
              "numpy.ndarray"
            ]
          },
          "metadata": {},
          "execution_count": 77
        }
      ]
    },
    {
      "cell_type": "code",
      "source": [
        "leading_term_index_list(nm_non_zero)\n"
      ],
      "metadata": {
        "colab": {
          "base_uri": "https://localhost:8080/"
        },
        "id": "xYnscGzQWRpd",
        "outputId": "3677e9c2-ca46-4ea1-a042-d86116de32fd"
      },
      "execution_count": null,
      "outputs": [
        {
          "output_type": "execute_result",
          "data": {
            "text/plain": [
              "[(0, 1), (2, 1), (1, 2)]"
            ]
          },
          "metadata": {},
          "execution_count": 78
        }
      ]
    },
    {
      "cell_type": "code",
      "source": [
        "aman"
      ],
      "metadata": {
        "colab": {
          "base_uri": "https://localhost:8080/"
        },
        "id": "uhIsBQc6HPiS",
        "outputId": "e6715be0-c2b2-4950-fdfe-20621ce714eb"
      },
      "execution_count": null,
      "outputs": [
        {
          "output_type": "execute_result",
          "data": {
            "text/plain": [
              "[(0, 1), (2, 1), (1, 2)]"
            ]
          },
          "metadata": {},
          "execution_count": 79
        }
      ]
    },
    {
      "cell_type": "code",
      "source": [
        "#now we will make a new matrix for this all things\n",
        "het_ma = []\n",
        "for i in range(nm_non_zero.shape[0]):\n",
        "  het_ma.append(list(nm_non_zero[aman[i][0]]))\n",
        "print(het_ma)"
      ],
      "metadata": {
        "colab": {
          "base_uri": "https://localhost:8080/"
        },
        "id": "yIUNtKpXgfNe",
        "outputId": "6a3cda3a-02e3-4e97-f391-eebd319d3895"
      },
      "execution_count": null,
      "outputs": [
        {
          "output_type": "stream",
          "name": "stdout",
          "text": [
            "[[32, 322, 33], [5, 6, 7], [0, 65, 77]]\n"
          ]
        }
      ]
    },
    {
      "cell_type": "code",
      "source": [
        "#so now I have to use elementary row operation to make all entries 0 below any leading entry.\n",
        "#but there are some cases in which there will be we will have to make this column solved and then again we will have to make it a fucntion,but first I will sort this out\n",
        "print(het_ma[1][0])"
      ],
      "metadata": {
        "colab": {
          "base_uri": "https://localhost:8080/"
        },
        "id": "3R2C7Pf8h0R_",
        "outputId": "a2475042-93bd-49b9-8929-a3317f281341"
      },
      "execution_count": null,
      "outputs": [
        {
          "output_type": "stream",
          "name": "stdout",
          "text": [
            "5\n"
          ]
        }
      ]
    },
    {
      "cell_type": "code",
      "source": [
        "\n",
        "'''\n",
        "wait what do I have to do \n",
        "see once i have the list of the leading terms i should know which row has which leading term then i need to find so i have to sort it dictionary strikes as \n",
        "of now but lets write the plan\n",
        "now so let us try it out should i should i not\n",
        "actually what he said proves that he is very good at observations like he said Vocabulary preceeds nuances , that indeed took time to understand but\n",
        "statements like this are like open source things which have the potential to transform the situation so i like it a lot and that is why i am in \n",
        "see now i can know the leading terms of all the matrix and then i will make a dictionary out of it and then i will define a new list \n",
        "i think we should code a little \n",
        "for i in range(len(het_ma)):\n",
        "  chance in the\n",
        "'''\n",
        "def pivot_maker(m,i,j):#m is the matrix, i , j are position of the leading element\n",
        "  for t in range(i+1,len(m)+1):\n",
        "    \n",
        "    if m[t][j]!=0 :\n",
        "      alpha = ((-1)*m[i][j])/m[t][j]\n",
        "      \n",
        "      m[t]=ro3(m,t,j,alpha)\n",
        "      m = m - m[len(m)-1]\n",
        "      a = len(m)\n",
        "      b= a\n",
        "    \n",
        "    return m\n",
        "\n",
        "\n"
      ],
      "metadata": {
        "id": "P4AsTekxPqXr"
      },
      "execution_count": null,
      "outputs": []
    },
    {
      "cell_type": "code",
      "source": [
        "print(het_ma)"
      ],
      "metadata": {
        "colab": {
          "base_uri": "https://localhost:8080/"
        },
        "id": "257VCM425fuN",
        "outputId": "31b7846a-bb02-4cb2-a4b5-0e5fc78ed7c7"
      },
      "execution_count": null,
      "outputs": [
        {
          "output_type": "stream",
          "name": "stdout",
          "text": [
            "[[32, 322, 33], [5, 6, 7], [0, 65, 77]]\n"
          ]
        }
      ]
    },
    {
      "cell_type": "code",
      "source": [
        "pivot_maker(het_ma,0,0)"
      ],
      "metadata": {
        "id": "1IOfF3wmqB8w"
      },
      "execution_count": null,
      "outputs": []
    },
    {
      "cell_type": "code",
      "source": [
        "#@title Default title text\n",
        "#now I will make row operations to make this entries 0\n",
        "#which is really hard to code ahhh darn it\n",
        "#so now lets do it.\n",
        "'''\n",
        "for i in range(0,n+1):\n",
        "\n",
        "  for j in range(1+i,m+1):\n",
        "    alphaa = ((-1)*nm[i][i+1])/nm[i][j]\n",
        "    ro3(nm,j,0,alphaa)\n",
        "  '''\n"
      ],
      "metadata": {
        "id": "E8zUVwc0yQi9",
        "cellView": "form"
      },
      "execution_count": null,
      "outputs": []
    },
    {
      "cell_type": "markdown",
      "source": [
        "so firstly write what is a echelon form?\n",
        "\n",
        "it is updated version of a matrix which has some properties:\n",
        "\n",
        " 1)Any row consisting of all zeros are the bottom most rows.\n",
        "\n",
        " 2)The leading terms of all the rows is 1\n",
        "\n",
        " 3)For any two consecutive rows, the leading term 1 of the above row is on left than the other\n",
        "\n",
        " 4)Now RREF is reduced row echelon form is when the any column having a leading term should have only one non-zero entry.\n",
        " "
      ],
      "metadata": {
        "id": "zOP6WFrjWGX3"
      }
    },
    {
      "cell_type": "code",
      "source": [
        "#how much have I progressed?\n",
        "#I am making a function which will make all the leading entries as one.\n",
        "def leadingTerm_one_maker(matrix):\n",
        "  print(type(matrix))\n",
        "  rows=len(matrix)\n",
        "  columns = len(matrix[0])\n",
        "  print(rows,columns)\n",
        "  for i in range(rows):\n",
        "    for j in range(columns):\n",
        "      if matrix[i][j]!=0:\n",
        "        alpha=(-1)/matrix[i][j]\n",
        "        ro2(matrix,i,alpha)\n",
        "        matrix[i][j]=1\n",
        "        break\n",
        "      else:\n",
        "        j=j+1\n",
        "  return matrix"
      ],
      "metadata": {
        "id": "CAKXrbexbUDY"
      },
      "execution_count": null,
      "outputs": []
    },
    {
      "cell_type": "code",
      "source": [
        "type(het_ma[0][0])"
      ],
      "metadata": {
        "colab": {
          "base_uri": "https://localhost:8080/"
        },
        "id": "YfxQIrmjJDpX",
        "outputId": "855ef40a-1059-4f84-b8c8-6b46d73ee4fc"
      },
      "execution_count": null,
      "outputs": [
        {
          "output_type": "execute_result",
          "data": {
            "text/plain": [
              "int"
            ]
          },
          "metadata": {},
          "execution_count": 94
        }
      ]
    },
    {
      "cell_type": "code",
      "source": [
        "leadingTerm_one_maker(het_ma)"
      ],
      "metadata": {
        "colab": {
          "base_uri": "https://localhost:8080/",
          "height": 322
        },
        "id": "nogoso3mzUPR",
        "outputId": "3216b7a7-c0e3-4451-fe13-31f15ddefdba"
      },
      "execution_count": null,
      "outputs": [
        {
          "output_type": "stream",
          "name": "stdout",
          "text": [
            "<class 'list'>\n",
            "3 3\n"
          ]
        },
        {
          "output_type": "error",
          "ename": "TypeError",
          "evalue": "ignored",
          "traceback": [
            "\u001b[0;31m---------------------------------------------------------------------------\u001b[0m",
            "\u001b[0;31mTypeError\u001b[0m                                 Traceback (most recent call last)",
            "\u001b[0;32m<ipython-input-93-9f780af8954e>\u001b[0m in \u001b[0;36m<module>\u001b[0;34m()\u001b[0m\n\u001b[0;32m----> 1\u001b[0;31m \u001b[0mleadingTerm_one_maker\u001b[0m\u001b[0;34m(\u001b[0m\u001b[0mhet_ma\u001b[0m\u001b[0;34m)\u001b[0m\u001b[0;34m\u001b[0m\u001b[0;34m\u001b[0m\u001b[0m\n\u001b[0m",
            "\u001b[0;32m<ipython-input-91-0fbe48d264aa>\u001b[0m in \u001b[0;36mleadingTerm_one_maker\u001b[0;34m(matrix)\u001b[0m\n\u001b[1;32m      9\u001b[0m     \u001b[0;32mfor\u001b[0m \u001b[0mj\u001b[0m \u001b[0;32min\u001b[0m \u001b[0mrange\u001b[0m\u001b[0;34m(\u001b[0m\u001b[0mcolumns\u001b[0m\u001b[0;34m)\u001b[0m\u001b[0;34m:\u001b[0m\u001b[0;34m\u001b[0m\u001b[0;34m\u001b[0m\u001b[0m\n\u001b[1;32m     10\u001b[0m       \u001b[0;32mif\u001b[0m \u001b[0mmatrix\u001b[0m\u001b[0;34m[\u001b[0m\u001b[0mi\u001b[0m\u001b[0;34m]\u001b[0m\u001b[0;34m[\u001b[0m\u001b[0mj\u001b[0m\u001b[0;34m]\u001b[0m\u001b[0;34m!=\u001b[0m\u001b[0;36m0\u001b[0m\u001b[0;34m:\u001b[0m\u001b[0;34m\u001b[0m\u001b[0;34m\u001b[0m\u001b[0m\n\u001b[0;32m---> 11\u001b[0;31m         \u001b[0malpha\u001b[0m\u001b[0;34m=\u001b[0m\u001b[0;34m(\u001b[0m\u001b[0;34m-\u001b[0m\u001b[0;36m1\u001b[0m\u001b[0;34m)\u001b[0m\u001b[0;34m/\u001b[0m\u001b[0mmatrix\u001b[0m\u001b[0;34m[\u001b[0m\u001b[0mi\u001b[0m\u001b[0;34m]\u001b[0m\u001b[0;34m[\u001b[0m\u001b[0mj\u001b[0m\u001b[0;34m]\u001b[0m\u001b[0;34m\u001b[0m\u001b[0;34m\u001b[0m\u001b[0m\n\u001b[0m\u001b[1;32m     12\u001b[0m         \u001b[0mro2\u001b[0m\u001b[0;34m(\u001b[0m\u001b[0mmatrix\u001b[0m\u001b[0;34m,\u001b[0m\u001b[0mi\u001b[0m\u001b[0;34m,\u001b[0m\u001b[0malpha\u001b[0m\u001b[0;34m)\u001b[0m\u001b[0;34m\u001b[0m\u001b[0;34m\u001b[0m\u001b[0m\n\u001b[1;32m     13\u001b[0m         \u001b[0mmatrix\u001b[0m\u001b[0;34m[\u001b[0m\u001b[0mi\u001b[0m\u001b[0;34m]\u001b[0m\u001b[0;34m[\u001b[0m\u001b[0mj\u001b[0m\u001b[0;34m]\u001b[0m\u001b[0;34m=\u001b[0m\u001b[0;36m1\u001b[0m\u001b[0;34m\u001b[0m\u001b[0;34m\u001b[0m\u001b[0m\n",
            "\u001b[0;31mTypeError\u001b[0m: unsupported operand type(s) for /: 'int' and 'list'"
          ]
        }
      ]
    },
    {
      "cell_type": "code",
      "source": [
        "print(het_ma)"
      ],
      "metadata": {
        "colab": {
          "base_uri": "https://localhost:8080/"
        },
        "id": "MbdCCJ8qzgAc",
        "outputId": "f04cccf6-ab09-47e3-e75a-7aeb59372fec"
      },
      "execution_count": null,
      "outputs": [
        {
          "output_type": "stream",
          "name": "stdout",
          "text": [
            "[[1, -10.0625, -1.03125], [1, -1.2, -1.4000000000000001], [0.0, 1, -1.1846153846153846]]\n"
          ]
        }
      ]
    },
    {
      "cell_type": "code",
      "source": [
        "aman[0][1]"
      ],
      "metadata": {
        "colab": {
          "base_uri": "https://localhost:8080/"
        },
        "id": "228Vl2N5D9Vv",
        "outputId": "c89898cd-ecaa-4687-b059-dc02ce72f386"
      },
      "execution_count": null,
      "outputs": [
        {
          "output_type": "execute_result",
          "data": {
            "text/plain": [
              "1"
            ]
          },
          "metadata": {},
          "execution_count": 49
        }
      ]
    },
    {
      "cell_type": "code",
      "source": [
        "#now we will make a function which will check every successive row and if there is any row which has leading \n",
        "#term in same column we will make it 0\n",
        "def successive_row_0maker(matrix):\n",
        "  rows=len(matrix)\n",
        "  columns = len(matrix[0])\n",
        "  \n",
        "  for i in range(1):\n",
        "    if aman[i][1]==aman[i+1][1]:\n",
        "      ro3(matrix,i+1,i,-1)\n",
        "    else:\n",
        "      i=i+1\n",
        "  return matrix\n",
        "\n"
      ],
      "metadata": {
        "id": "o8rAbCeL0KMJ"
      },
      "execution_count": null,
      "outputs": []
    },
    {
      "cell_type": "code",
      "source": [
        "successive_row_0maker(het_ma)"
      ],
      "metadata": {
        "colab": {
          "base_uri": "https://localhost:8080/"
        },
        "id": "BD1ogAesFAxL",
        "outputId": "f069aaaf-23c1-40ad-f2b2-293ca441e828"
      },
      "execution_count": null,
      "outputs": [
        {
          "output_type": "execute_result",
          "data": {
            "text/plain": [
              "[[1, -10.0625, -1.03125],\n",
              " [-3.0, 39.05, 2.7249999999999996],\n",
              " [0.0, 1, -1.1846153846153846]]"
            ]
          },
          "metadata": {},
          "execution_count": 68
        }
      ]
    },
    {
      "cell_type": "code",
      "source": [
        "18.925+1.2\n"
      ],
      "metadata": {
        "colab": {
          "base_uri": "https://localhost:8080/"
        },
        "id": "YuF6eNhhFHh9",
        "outputId": "90e382fb-1c5f-44a5-d91c-81dcf3a16fcd"
      },
      "execution_count": null,
      "outputs": [
        {
          "output_type": "execute_result",
          "data": {
            "text/plain": [
              "20.125"
            ]
          },
          "metadata": {},
          "execution_count": 44
        }
      ]
    },
    {
      "cell_type": "code",
      "source": [
        "20.125/2"
      ],
      "metadata": {
        "colab": {
          "base_uri": "https://localhost:8080/"
        },
        "id": "15ENVbR_FnGs",
        "outputId": "9d2ab189-3a87-4dd3-f810-689d1aba7cf2"
      },
      "execution_count": null,
      "outputs": [
        {
          "output_type": "execute_result",
          "data": {
            "text/plain": [
              "10.0625"
            ]
          },
          "metadata": {},
          "execution_count": 45
        }
      ]
    },
    {
      "cell_type": "code",
      "source": [
        ""
      ],
      "metadata": {
        "id": "o0Qqgh5eFpZW"
      },
      "execution_count": null,
      "outputs": []
    }
  ]
}